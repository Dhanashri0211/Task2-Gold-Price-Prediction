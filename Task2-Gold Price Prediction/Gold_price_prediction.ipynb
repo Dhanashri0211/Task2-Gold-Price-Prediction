{
 "cells": [
  {
   "cell_type": "markdown",
   "metadata": {},
   "source": [
    "NAME :-Dhanashri Bhatar Jadhav.\n",
    "Domain: Data Analytics \n"
   ]
  },
  {
   "cell_type": "markdown",
   "metadata": {},
   "source": [
    "#            GOLD PRICE PREDICTION \n"
   ]
  },
  {
   "cell_type": "markdown",
   "metadata": {},
   "source": [
    "### 1 .Import Libraries\n",
    "### 2 .Import Dataset\n",
    "### 3 .Data Pre-processing\n",
    "### 4 .Data Analysis\n",
    "### 5 .Training and Test Dataset\n",
    "### 6 . Model Building "
   ]
  },
  {
   "cell_type": "markdown",
   "metadata": {},
   "source": [
    "## 1.Import Libraries"
   ]
  },
  {
   "cell_type": "code",
   "execution_count": 3,
   "metadata": {},
   "outputs": [],
   "source": [
    "import pandas as pd\n",
    "import numpy as np\n",
    "import matplotlib.pyplot as plt\n",
    "import seaborn as sns\n",
    "from sklearn.model_selection import train_test_split\n",
    "from sklearn.linear_model import LinearRegression\n",
    "from sklearn import metrics\n",
    "from sklearn.ensemble import RandomForestRegressor\n"
   ]
  },
  {
   "cell_type": "markdown",
   "metadata": {},
   "source": [
    "## 2.Import Dataset "
   ]
  },
  {
   "cell_type": "code",
   "execution_count": 7,
   "metadata": {},
   "outputs": [],
   "source": [
    "#Import Data\n",
    "dataset = pd.read_csv(\"Gold_Price_Dataset.csv\")\n"
   ]
  },
  {
   "cell_type": "code",
   "execution_count": 8,
   "metadata": {},
   "outputs": [
    {
     "name": "stdout",
     "output_type": "stream",
     "text": [
      "           Date          SPX         GLD        USO      SLV   EUR/USD\n",
      "0      1/2/2008  1447.160034   84.860001  78.470001  15.1800  1.471692\n",
      "1      1/3/2008  1447.160034   85.570000  78.370003  15.2850  1.474491\n",
      "2      1/4/2008  1411.630005   85.129997  77.309998  15.1670  1.475492\n",
      "3      1/7/2008  1416.180054   84.769997  75.500000  15.0530  1.468299\n",
      "4      1/8/2008  1390.189941   86.779999  76.059998  15.5900  1.557099\n",
      "...         ...          ...         ...        ...      ...       ...\n",
      "2285   5/8/2018  2671.919922  124.589996  14.060000  15.5100  1.186789\n",
      "2286   5/9/2018  2697.790039  124.330002  14.370000  15.5300  1.184722\n",
      "2287  5/10/2018  2723.070068  125.180000  14.410000  15.7400  1.191753\n",
      "2288  5/14/2018  2730.129883  124.489998  14.380000  15.5600  1.193118\n",
      "2289  5/16/2018  2725.780029  122.543800  14.405800  15.4542  1.182033\n",
      "\n",
      "[2290 rows x 6 columns]\n"
     ]
    }
   ],
   "source": [
    "print(dataset)"
   ]
  },
  {
   "cell_type": "code",
   "execution_count": 9,
   "metadata": {},
   "outputs": [
    {
     "data": {
      "text/html": [
       "<div>\n",
       "<style scoped>\n",
       "    .dataframe tbody tr th:only-of-type {\n",
       "        vertical-align: middle;\n",
       "    }\n",
       "\n",
       "    .dataframe tbody tr th {\n",
       "        vertical-align: top;\n",
       "    }\n",
       "\n",
       "    .dataframe thead th {\n",
       "        text-align: right;\n",
       "    }\n",
       "</style>\n",
       "<table border=\"1\" class=\"dataframe\">\n",
       "  <thead>\n",
       "    <tr style=\"text-align: right;\">\n",
       "      <th></th>\n",
       "      <th>Date</th>\n",
       "      <th>SPX</th>\n",
       "      <th>GLD</th>\n",
       "      <th>USO</th>\n",
       "      <th>SLV</th>\n",
       "      <th>EUR/USD</th>\n",
       "    </tr>\n",
       "  </thead>\n",
       "  <tbody>\n",
       "    <tr>\n",
       "      <th>0</th>\n",
       "      <td>1/2/2008</td>\n",
       "      <td>1447.160034</td>\n",
       "      <td>84.860001</td>\n",
       "      <td>78.470001</td>\n",
       "      <td>15.180000</td>\n",
       "      <td>1.471692</td>\n",
       "    </tr>\n",
       "    <tr>\n",
       "      <th>1</th>\n",
       "      <td>1/3/2008</td>\n",
       "      <td>1447.160034</td>\n",
       "      <td>85.570000</td>\n",
       "      <td>78.370003</td>\n",
       "      <td>15.285000</td>\n",
       "      <td>1.474491</td>\n",
       "    </tr>\n",
       "    <tr>\n",
       "      <th>2</th>\n",
       "      <td>1/4/2008</td>\n",
       "      <td>1411.630005</td>\n",
       "      <td>85.129997</td>\n",
       "      <td>77.309998</td>\n",
       "      <td>15.167000</td>\n",
       "      <td>1.475492</td>\n",
       "    </tr>\n",
       "    <tr>\n",
       "      <th>3</th>\n",
       "      <td>1/7/2008</td>\n",
       "      <td>1416.180054</td>\n",
       "      <td>84.769997</td>\n",
       "      <td>75.500000</td>\n",
       "      <td>15.053000</td>\n",
       "      <td>1.468299</td>\n",
       "    </tr>\n",
       "    <tr>\n",
       "      <th>4</th>\n",
       "      <td>1/8/2008</td>\n",
       "      <td>1390.189941</td>\n",
       "      <td>86.779999</td>\n",
       "      <td>76.059998</td>\n",
       "      <td>15.590000</td>\n",
       "      <td>1.557099</td>\n",
       "    </tr>\n",
       "    <tr>\n",
       "      <th>5</th>\n",
       "      <td>1/9/2008</td>\n",
       "      <td>1409.130005</td>\n",
       "      <td>86.550003</td>\n",
       "      <td>75.250000</td>\n",
       "      <td>15.520000</td>\n",
       "      <td>1.466405</td>\n",
       "    </tr>\n",
       "    <tr>\n",
       "      <th>6</th>\n",
       "      <td>1/10/2008</td>\n",
       "      <td>1420.329956</td>\n",
       "      <td>88.250000</td>\n",
       "      <td>74.019997</td>\n",
       "      <td>16.061001</td>\n",
       "      <td>1.480100</td>\n",
       "    </tr>\n",
       "    <tr>\n",
       "      <th>7</th>\n",
       "      <td>1/11/2008</td>\n",
       "      <td>1401.020020</td>\n",
       "      <td>88.580002</td>\n",
       "      <td>73.089996</td>\n",
       "      <td>16.077000</td>\n",
       "      <td>1.479006</td>\n",
       "    </tr>\n",
       "    <tr>\n",
       "      <th>8</th>\n",
       "      <td>1/14/2008</td>\n",
       "      <td>1416.250000</td>\n",
       "      <td>89.540001</td>\n",
       "      <td>74.250000</td>\n",
       "      <td>16.280001</td>\n",
       "      <td>1.486900</td>\n",
       "    </tr>\n",
       "    <tr>\n",
       "      <th>9</th>\n",
       "      <td>1/15/2008</td>\n",
       "      <td>1380.949951</td>\n",
       "      <td>87.989998</td>\n",
       "      <td>72.779999</td>\n",
       "      <td>15.834000</td>\n",
       "      <td>1.480210</td>\n",
       "    </tr>\n",
       "  </tbody>\n",
       "</table>\n",
       "</div>"
      ],
      "text/plain": [
       "        Date          SPX        GLD        USO        SLV   EUR/USD\n",
       "0   1/2/2008  1447.160034  84.860001  78.470001  15.180000  1.471692\n",
       "1   1/3/2008  1447.160034  85.570000  78.370003  15.285000  1.474491\n",
       "2   1/4/2008  1411.630005  85.129997  77.309998  15.167000  1.475492\n",
       "3   1/7/2008  1416.180054  84.769997  75.500000  15.053000  1.468299\n",
       "4   1/8/2008  1390.189941  86.779999  76.059998  15.590000  1.557099\n",
       "5   1/9/2008  1409.130005  86.550003  75.250000  15.520000  1.466405\n",
       "6  1/10/2008  1420.329956  88.250000  74.019997  16.061001  1.480100\n",
       "7  1/11/2008  1401.020020  88.580002  73.089996  16.077000  1.479006\n",
       "8  1/14/2008  1416.250000  89.540001  74.250000  16.280001  1.486900\n",
       "9  1/15/2008  1380.949951  87.989998  72.779999  15.834000  1.480210"
      ]
     },
     "execution_count": 9,
     "metadata": {},
     "output_type": "execute_result"
    }
   ],
   "source": [
    "#top 10 rows from the dataset \n",
    "dataset.head(10)"
   ]
  },
  {
   "cell_type": "markdown",
   "metadata": {},
   "source": [
    "## 3.Data Pre-processing"
   ]
  },
  {
   "cell_type": "code",
   "execution_count": 10,
   "metadata": {},
   "outputs": [
    {
     "data": {
      "text/html": [
       "<div>\n",
       "<style scoped>\n",
       "    .dataframe tbody tr th:only-of-type {\n",
       "        vertical-align: middle;\n",
       "    }\n",
       "\n",
       "    .dataframe tbody tr th {\n",
       "        vertical-align: top;\n",
       "    }\n",
       "\n",
       "    .dataframe thead th {\n",
       "        text-align: right;\n",
       "    }\n",
       "</style>\n",
       "<table border=\"1\" class=\"dataframe\">\n",
       "  <thead>\n",
       "    <tr style=\"text-align: right;\">\n",
       "      <th></th>\n",
       "      <th>Date</th>\n",
       "      <th>SPX</th>\n",
       "      <th>GLD</th>\n",
       "      <th>USO</th>\n",
       "      <th>SLV</th>\n",
       "      <th>EUR/USD</th>\n",
       "    </tr>\n",
       "  </thead>\n",
       "  <tbody>\n",
       "    <tr>\n",
       "      <th>2280</th>\n",
       "      <td>4/30/2018</td>\n",
       "      <td>2648.050049</td>\n",
       "      <td>124.589996</td>\n",
       "      <td>13.8000</td>\n",
       "      <td>15.3800</td>\n",
       "      <td>1.208123</td>\n",
       "    </tr>\n",
       "    <tr>\n",
       "      <th>2281</th>\n",
       "      <td>5/1/2018</td>\n",
       "      <td>2654.800049</td>\n",
       "      <td>123.709999</td>\n",
       "      <td>13.6100</td>\n",
       "      <td>15.2400</td>\n",
       "      <td>1.199156</td>\n",
       "    </tr>\n",
       "    <tr>\n",
       "      <th>2282</th>\n",
       "      <td>5/2/2018</td>\n",
       "      <td>2635.669922</td>\n",
       "      <td>123.650002</td>\n",
       "      <td>13.6700</td>\n",
       "      <td>15.4200</td>\n",
       "      <td>1.195100</td>\n",
       "    </tr>\n",
       "    <tr>\n",
       "      <th>2283</th>\n",
       "      <td>5/3/2018</td>\n",
       "      <td>2629.729980</td>\n",
       "      <td>124.279999</td>\n",
       "      <td>13.8200</td>\n",
       "      <td>15.4600</td>\n",
       "      <td>1.198926</td>\n",
       "    </tr>\n",
       "    <tr>\n",
       "      <th>2284</th>\n",
       "      <td>5/7/2018</td>\n",
       "      <td>2672.629883</td>\n",
       "      <td>124.570000</td>\n",
       "      <td>14.1000</td>\n",
       "      <td>15.5200</td>\n",
       "      <td>1.193374</td>\n",
       "    </tr>\n",
       "    <tr>\n",
       "      <th>2285</th>\n",
       "      <td>5/8/2018</td>\n",
       "      <td>2671.919922</td>\n",
       "      <td>124.589996</td>\n",
       "      <td>14.0600</td>\n",
       "      <td>15.5100</td>\n",
       "      <td>1.186789</td>\n",
       "    </tr>\n",
       "    <tr>\n",
       "      <th>2286</th>\n",
       "      <td>5/9/2018</td>\n",
       "      <td>2697.790039</td>\n",
       "      <td>124.330002</td>\n",
       "      <td>14.3700</td>\n",
       "      <td>15.5300</td>\n",
       "      <td>1.184722</td>\n",
       "    </tr>\n",
       "    <tr>\n",
       "      <th>2287</th>\n",
       "      <td>5/10/2018</td>\n",
       "      <td>2723.070068</td>\n",
       "      <td>125.180000</td>\n",
       "      <td>14.4100</td>\n",
       "      <td>15.7400</td>\n",
       "      <td>1.191753</td>\n",
       "    </tr>\n",
       "    <tr>\n",
       "      <th>2288</th>\n",
       "      <td>5/14/2018</td>\n",
       "      <td>2730.129883</td>\n",
       "      <td>124.489998</td>\n",
       "      <td>14.3800</td>\n",
       "      <td>15.5600</td>\n",
       "      <td>1.193118</td>\n",
       "    </tr>\n",
       "    <tr>\n",
       "      <th>2289</th>\n",
       "      <td>5/16/2018</td>\n",
       "      <td>2725.780029</td>\n",
       "      <td>122.543800</td>\n",
       "      <td>14.4058</td>\n",
       "      <td>15.4542</td>\n",
       "      <td>1.182033</td>\n",
       "    </tr>\n",
       "  </tbody>\n",
       "</table>\n",
       "</div>"
      ],
      "text/plain": [
       "           Date          SPX         GLD      USO      SLV   EUR/USD\n",
       "2280  4/30/2018  2648.050049  124.589996  13.8000  15.3800  1.208123\n",
       "2281   5/1/2018  2654.800049  123.709999  13.6100  15.2400  1.199156\n",
       "2282   5/2/2018  2635.669922  123.650002  13.6700  15.4200  1.195100\n",
       "2283   5/3/2018  2629.729980  124.279999  13.8200  15.4600  1.198926\n",
       "2284   5/7/2018  2672.629883  124.570000  14.1000  15.5200  1.193374\n",
       "2285   5/8/2018  2671.919922  124.589996  14.0600  15.5100  1.186789\n",
       "2286   5/9/2018  2697.790039  124.330002  14.3700  15.5300  1.184722\n",
       "2287  5/10/2018  2723.070068  125.180000  14.4100  15.7400  1.191753\n",
       "2288  5/14/2018  2730.129883  124.489998  14.3800  15.5600  1.193118\n",
       "2289  5/16/2018  2725.780029  122.543800  14.4058  15.4542  1.182033"
      ]
     },
     "execution_count": 10,
     "metadata": {},
     "output_type": "execute_result"
    }
   ],
   "source": [
    "#last 10 rows from the dataset \n",
    "dataset.tail(10)"
   ]
  },
  {
   "cell_type": "code",
   "execution_count": 11,
   "metadata": {},
   "outputs": [
    {
     "data": {
      "text/plain": [
       "(2290, 6)"
      ]
     },
     "execution_count": 11,
     "metadata": {},
     "output_type": "execute_result"
    }
   ],
   "source": [
    "#Number of rows and columns\n",
    "dataset.shape"
   ]
  },
  {
   "cell_type": "code",
   "execution_count": 12,
   "metadata": {},
   "outputs": [
    {
     "name": "stdout",
     "output_type": "stream",
     "text": [
      "<class 'pandas.core.frame.DataFrame'>\n",
      "RangeIndex: 2290 entries, 0 to 2289\n",
      "Data columns (total 6 columns):\n",
      " #   Column   Non-Null Count  Dtype  \n",
      "---  ------   --------------  -----  \n",
      " 0   Date     2290 non-null   object \n",
      " 1   SPX      2290 non-null   float64\n",
      " 2   GLD      2290 non-null   float64\n",
      " 3   USO      2290 non-null   float64\n",
      " 4   SLV      2290 non-null   float64\n",
      " 5   EUR/USD  2290 non-null   float64\n",
      "dtypes: float64(5), object(1)\n",
      "memory usage: 107.5+ KB\n"
     ]
    }
   ],
   "source": [
    "dataset.info()"
   ]
  },
  {
   "cell_type": "code",
   "execution_count": 13,
   "metadata": {},
   "outputs": [
    {
     "data": {
      "text/plain": [
       "Date       0\n",
       "SPX        0\n",
       "GLD        0\n",
       "USO        0\n",
       "SLV        0\n",
       "EUR/USD    0\n",
       "dtype: int64"
      ]
     },
     "execution_count": 13,
     "metadata": {},
     "output_type": "execute_result"
    }
   ],
   "source": [
    "#Check if any nill value present in dataset \n",
    "dataset.isnull().sum()"
   ]
  },
  {
   "cell_type": "markdown",
   "metadata": {},
   "source": [
    "## 4.Data Analysis "
   ]
  },
  {
   "cell_type": "code",
   "execution_count": 14,
   "metadata": {},
   "outputs": [
    {
     "data": {
      "text/html": [
       "<div>\n",
       "<style scoped>\n",
       "    .dataframe tbody tr th:only-of-type {\n",
       "        vertical-align: middle;\n",
       "    }\n",
       "\n",
       "    .dataframe tbody tr th {\n",
       "        vertical-align: top;\n",
       "    }\n",
       "\n",
       "    .dataframe thead th {\n",
       "        text-align: right;\n",
       "    }\n",
       "</style>\n",
       "<table border=\"1\" class=\"dataframe\">\n",
       "  <thead>\n",
       "    <tr style=\"text-align: right;\">\n",
       "      <th></th>\n",
       "      <th>SPX</th>\n",
       "      <th>GLD</th>\n",
       "      <th>USO</th>\n",
       "      <th>SLV</th>\n",
       "      <th>EUR/USD</th>\n",
       "    </tr>\n",
       "  </thead>\n",
       "  <tbody>\n",
       "    <tr>\n",
       "      <th>SPX</th>\n",
       "      <td>1.000000</td>\n",
       "      <td>0.049345</td>\n",
       "      <td>-0.591573</td>\n",
       "      <td>-0.274055</td>\n",
       "      <td>-0.672017</td>\n",
       "    </tr>\n",
       "    <tr>\n",
       "      <th>GLD</th>\n",
       "      <td>0.049345</td>\n",
       "      <td>1.000000</td>\n",
       "      <td>-0.186360</td>\n",
       "      <td>0.866632</td>\n",
       "      <td>-0.024375</td>\n",
       "    </tr>\n",
       "    <tr>\n",
       "      <th>USO</th>\n",
       "      <td>-0.591573</td>\n",
       "      <td>-0.186360</td>\n",
       "      <td>1.000000</td>\n",
       "      <td>0.167547</td>\n",
       "      <td>0.829317</td>\n",
       "    </tr>\n",
       "    <tr>\n",
       "      <th>SLV</th>\n",
       "      <td>-0.274055</td>\n",
       "      <td>0.866632</td>\n",
       "      <td>0.167547</td>\n",
       "      <td>1.000000</td>\n",
       "      <td>0.321631</td>\n",
       "    </tr>\n",
       "    <tr>\n",
       "      <th>EUR/USD</th>\n",
       "      <td>-0.672017</td>\n",
       "      <td>-0.024375</td>\n",
       "      <td>0.829317</td>\n",
       "      <td>0.321631</td>\n",
       "      <td>1.000000</td>\n",
       "    </tr>\n",
       "  </tbody>\n",
       "</table>\n",
       "</div>"
      ],
      "text/plain": [
       "              SPX       GLD       USO       SLV   EUR/USD\n",
       "SPX      1.000000  0.049345 -0.591573 -0.274055 -0.672017\n",
       "GLD      0.049345  1.000000 -0.186360  0.866632 -0.024375\n",
       "USO     -0.591573 -0.186360  1.000000  0.167547  0.829317\n",
       "SLV     -0.274055  0.866632  0.167547  1.000000  0.321631\n",
       "EUR/USD -0.672017 -0.024375  0.829317  0.321631  1.000000"
      ]
     },
     "execution_count": 14,
     "metadata": {},
     "output_type": "execute_result"
    }
   ],
   "source": [
    "correlation = df.corr()\n",
    "correlation\n"
   ]
  },
  {
   "cell_type": "code",
   "execution_count": 15,
   "metadata": {},
   "outputs": [
    {
     "data": {
      "text/plain": [
       "<matplotlib.axes._subplots.AxesSubplot at 0x22a26bc2790>"
      ]
     },
     "execution_count": 15,
     "metadata": {},
     "output_type": "execute_result"
    },
    {
     "data": {
      "image/png": "[encoded data removed]",
      "text/plain": [
       "<Figure size 576x576 with 2 Axes>"
      ]
     },
     "metadata": {
      "needs_background": "light"
     },
     "output_type": "display_data"
    }
   ],
   "source": [
    "\n",
    "plt.figure(figsize=(8,8))\n",
    "sns.heatmap(correlation,annot=True)"
   ]
  },
  {
   "cell_type": "code",
   "execution_count": 16,
   "metadata": {},
   "outputs": [],
   "source": [
    "#Split dataset into Dependent and Independent Variables\n",
    "X = df[['SPX','USO','SLV','EUR/USD']]\n",
    "x = X.iloc[:,:].values"
   ]
  },
  {
   "cell_type": "code",
   "execution_count": 17,
   "metadata": {},
   "outputs": [
    {
     "data": {
      "text/plain": [
       "array([[1.44716003e+03, 7.84700010e+01, 1.51800000e+01, 1.47169200e+00],\n",
       "       [1.44716003e+03, 7.83700030e+01, 1.52850000e+01, 1.47449100e+00],\n",
       "       [1.41163000e+03, 7.73099980e+01, 1.51670000e+01, 1.47549200e+00],\n",
       "       ...,\n",
       "       [2.72307007e+03, 1.44100000e+01, 1.57400000e+01, 1.19175300e+00],\n",
       "       [2.73012988e+03, 1.43800000e+01, 1.55600000e+01, 1.19311800e+00],\n",
       "       [2.72578003e+03, 1.44058000e+01, 1.54542000e+01, 1.18203300e+00]])"
      ]
     },
     "execution_count": 17,
     "metadata": {},
     "output_type": "execute_result"
    }
   ],
   "source": [
    "x"
   ]
  },
  {
   "cell_type": "code",
   "execution_count": 18,
   "metadata": {},
   "outputs": [],
   "source": [
    "y = df.iloc[:,2].values \n"
   ]
  },
  {
   "cell_type": "code",
   "execution_count": 19,
   "metadata": {},
   "outputs": [
    {
     "data": {
      "text/plain": [
       "array([ 84.860001,  85.57    ,  85.129997, ..., 125.18    , 124.489998,\n",
       "       122.5438  ])"
      ]
     },
     "execution_count": 19,
     "metadata": {},
     "output_type": "execute_result"
    }
   ],
   "source": [
    "y"
   ]
  },
  {
   "cell_type": "markdown",
   "metadata": {},
   "source": [
    "## 5.Traning And Testing Data  "
   ]
  },
  {
   "cell_type": "code",
   "execution_count": 21,
   "metadata": {},
   "outputs": [
    {
     "data": {
      "text/plain": [
       "(1832, 4)"
      ]
     },
     "execution_count": 21,
     "metadata": {},
     "output_type": "execute_result"
    }
   ],
   "source": [
    "#Traning and testing data\n",
    "x_train,x_test,y_train,y_test = train_test_split(x, y, test_size=0.2, random_state=1)\n",
    "x_train.shape\n"
   ]
  },
  {
   "cell_type": "code",
   "execution_count": 22,
   "metadata": {},
   "outputs": [
    {
     "data": {
      "text/plain": [
       "(458, 4)"
      ]
     },
     "execution_count": 22,
     "metadata": {},
     "output_type": "execute_result"
    }
   ],
   "source": [
    "x_test.shape"
   ]
  },
  {
   "cell_type": "code",
   "execution_count": 23,
   "metadata": {},
   "outputs": [
    {
     "data": {
      "text/plain": [
       "(1832,)"
      ]
     },
     "execution_count": 23,
     "metadata": {},
     "output_type": "execute_result"
    }
   ],
   "source": [
    "y_train.shape"
   ]
  },
  {
   "cell_type": "code",
   "execution_count": 25,
   "metadata": {},
   "outputs": [
    {
     "data": {
      "text/plain": [
       "(458,)"
      ]
     },
     "execution_count": 25,
     "metadata": {},
     "output_type": "execute_result"
    }
   ],
   "source": [
    "y_test.shape"
   ]
  },
  {
   "cell_type": "markdown",
   "metadata": {},
   "source": [
    "## 6. Build Model "
   ]
  },
  {
   "cell_type": "markdown",
   "metadata": {},
   "source": [
    "### Linear Regression Model "
   ]
  },
  {
   "cell_type": "code",
   "execution_count": 26,
   "metadata": {},
   "outputs": [
    {
     "data": {
      "text/plain": [
       "LinearRegression()"
      ]
     },
     "execution_count": 26,
     "metadata": {},
     "output_type": "execute_result"
    }
   ],
   "source": [
    "#Linear Regression Model\n",
    "lr = LinearRegression()\n",
    "lr.fit(x_train,y_train)"
   ]
  },
  {
   "cell_type": "code",
   "execution_count": 27,
   "metadata": {},
   "outputs": [
    {
     "data": {
      "text/plain": [
       "array([121.893539  , 142.52364868, 158.91453793, 114.2187805 ,\n",
       "       110.36659025, 104.50331873, 109.98245681,  92.18483425,\n",
       "       120.90649253, 123.318912  , 191.2074328 , 118.60055338,\n",
       "       112.11950573,  93.46765189, 102.30779779,  97.98184003,\n",
       "       118.85518215,  94.0029039 , 119.86781484, 116.59909644,\n",
       "       122.21215189, 142.45378454, 121.22332281, 120.62860463,\n",
       "       163.30049944, 104.70315921, 125.56912816,  87.10875178,\n",
       "        95.73671386,  86.93309315, 121.81073623, 147.1233332 ,\n",
       "       144.33048658, 121.95542705, 121.2464489 ,  94.5371824 ,\n",
       "       152.31281012, 113.94185408, 110.92710898, 182.21152503,\n",
       "        97.46373243, 128.50200625, 120.48416906, 140.20343573,\n",
       "       120.16866258,  90.96452083,  82.43780029, 123.52782293,\n",
       "       144.52004651, 113.76951398, 123.14800018, 159.28339044,\n",
       "       141.34969761,  88.97598628, 163.39595336, 142.38892627,\n",
       "       109.31495867, 119.81421995,  93.1108709 , 129.67869305,\n",
       "       119.96744889, 142.21550112, 115.80809495, 115.07539756,\n",
       "       151.79900825, 111.10161864, 111.92509756, 140.89627511,\n",
       "       145.61855516, 117.87198864, 114.62345333, 187.25899785,\n",
       "       145.43536821, 161.41558562, 114.18988397, 132.49754796,\n",
       "       111.16755087, 109.30848107, 120.47917639, 121.40491892,\n",
       "       116.00435499,  96.11630876, 131.27113361, 114.43119403,\n",
       "       117.85030877,  95.53999061, 130.05094463, 119.38407911,\n",
       "       124.53437714, 122.59606268, 115.1787942 , 118.68710745,\n",
       "       152.63901818,  84.14101223, 120.87060817, 118.39624487,\n",
       "       128.03396621, 119.20243297, 119.14425157, 119.91859315,\n",
       "       123.61453323, 106.90593028, 149.32895426, 122.56480736,\n",
       "       123.92225354, 131.11817056, 170.1805573 ,  96.72174206,\n",
       "       121.18356825, 123.93609207, 105.80067393, 130.81763357,\n",
       "       121.01521435, 104.61517105, 121.2224091 , 106.60575946,\n",
       "       127.2681336 , 111.94445761, 113.91279289, 178.29068593,\n",
       "       100.29211127, 117.18663788, 115.63397188, 110.48390785,\n",
       "       120.23061664, 157.82315966, 122.17198229, 143.06271772,\n",
       "       121.5624132 , 154.30248258, 122.40105071,  91.73272171,\n",
       "       121.0739105 , 120.88036983, 110.97714331, 117.85878004,\n",
       "       121.65756238, 173.70639193, 121.20435772, 120.25699671,\n",
       "       119.81485401, 119.22662185, 158.75872752, 148.81027396,\n",
       "       160.94927188, 122.73596044, 122.46784515, 151.22434104,\n",
       "       104.95296137,  85.09948326, 117.21766337, 119.58856833,\n",
       "       123.93793188, 120.46585723, 120.50089853, 111.93213937,\n",
       "       113.18422685, 161.35600582, 188.47155233, 159.08514553,\n",
       "       110.84778161, 125.34969241, 122.8246894 , 160.37528806,\n",
       "       125.34276279, 125.11155741, 140.35395806, 125.46878543,\n",
       "       108.99629119, 130.81679072, 145.83974491, 129.50752059,\n",
       "       101.3317168 , 111.48939374, 123.89244066, 147.43146536,\n",
       "       103.19605589, 125.65510054, 105.54951719, 122.21063294,\n",
       "       144.96914694, 113.48053399, 119.21955856, 122.59180098,\n",
       "       113.50182914, 164.79093758, 140.47826013, 155.13415241,\n",
       "       119.11043492, 111.1612933 , 115.5765566 , 109.07933524,\n",
       "       111.05597337, 117.12968202, 146.33725566, 125.29482948,\n",
       "       122.01735428, 172.17272722, 164.70193802,  80.90779946,\n",
       "       120.19140715, 126.33040325, 119.54391475, 112.35803818,\n",
       "       160.29666111, 179.71529065,  80.32811206, 111.75068008,\n",
       "        95.00732586, 125.19446063, 127.2394719 , 113.6462296 ,\n",
       "       119.28700248, 143.11288798, 161.37239402,  94.0594433 ,\n",
       "       122.92687467, 112.7600935 , 115.00702604, 106.00896081,\n",
       "       161.66719074, 130.97441157, 106.19607485, 118.93087718,\n",
       "       109.53498579,  90.52958792, 162.38976313, 120.87614088,\n",
       "       118.46170656, 111.47965419, 124.29056897,  99.50911306,\n",
       "       115.87668768, 116.20464686, 143.98763658, 122.93174742,\n",
       "       161.21260345,  86.54042934, 157.55308619, 120.44179591,\n",
       "       114.83771515, 121.40631465, 118.47674303,  87.25467249,\n",
       "       122.17819088, 120.15227884,  96.85436137, 110.82733265,\n",
       "       121.06808989, 161.25969987, 110.95661339,  94.71203063,\n",
       "       124.57667954, 107.17688157,  97.28164723,  78.86686259,\n",
       "       153.54278608, 109.4464411 , 132.52972705, 101.56628241,\n",
       "       112.86087999, 140.26818731, 148.88146388, 115.06990015,\n",
       "       119.22730107, 149.69155655, 110.81005154, 164.87563762,\n",
       "       182.28419813,  88.34267807, 109.10047143, 142.26021017,\n",
       "       102.47654355, 149.52419695, 109.64464199, 141.48726534,\n",
       "       122.04916215, 123.0249573 , 121.9888099 ,  90.88442831,\n",
       "        82.75151517, 127.29537465, 122.5258863 , 120.22157986,\n",
       "       120.19789629, 141.22081191, 161.80886094, 119.27119548,\n",
       "       145.05430118, 142.34175924, 111.91270937,  95.66114278,\n",
       "       121.80837263, 145.96577999, 154.70121451, 144.10135873,\n",
       "        91.50799532, 148.73685693, 144.72158917, 103.45629687,\n",
       "       145.76091274,  86.77299824, 110.83742422, 125.18983304,\n",
       "       120.10486842, 141.25991761, 123.50675326, 129.2875168 ,\n",
       "       122.15637221, 102.91326806, 115.49997156, 100.17632354,\n",
       "       158.71759096, 148.66931542,  91.83259887, 130.05716258,\n",
       "       115.24490858, 155.9727481 , 119.4286435 , 104.57936368,\n",
       "       111.80532195, 113.59182526, 108.80340346,  79.77954681,\n",
       "        97.34768795, 116.56715202,  92.51847   , 108.89110733,\n",
       "       163.24042206, 157.91956079,  94.49193094, 161.91516255,\n",
       "        92.88471043, 118.37639445, 106.86049567, 121.9959432 ,\n",
       "       121.39476459, 119.03959822, 112.21237472, 127.43824184,\n",
       "       108.47905429, 151.98143739, 106.04185001, 123.82281282,\n",
       "       143.97924296, 160.04001166,  97.68943153,  94.55986406,\n",
       "       123.00237781,  94.65142171, 121.9584228 , 120.20108694,\n",
       "       169.30345298, 121.3380092 , 105.88302438, 152.58530848,\n",
       "        76.72935178, 118.60111882,  78.15825078, 116.72271499,\n",
       "       149.34330776, 138.05462745, 154.86569084, 117.03143748,\n",
       "       105.81485898, 142.45883207, 122.16506218, 153.89085298,\n",
       "       167.9755441 , 122.8992575 , 124.34510512, 109.27485851,\n",
       "       116.96033819, 123.04532469, 126.70575846, 152.06171606,\n",
       "        97.57033793, 159.24507415, 108.81674823, 118.9593623 ,\n",
       "       139.52454664, 117.20768505, 155.82277102, 118.52249064,\n",
       "       114.91007427, 131.44158249, 133.22283998, 115.91435319,\n",
       "       122.02689588, 122.40153797, 120.38745151, 111.86807801,\n",
       "       112.38258752,  80.30405571, 149.1970171 , 145.74596131,\n",
       "        92.26862613, 162.87370385, 140.49277053, 115.14648728,\n",
       "       113.73639442, 126.05147512, 152.87814705, 138.05711625,\n",
       "       123.96980134, 158.89130987, 153.9624448 , 123.20941919,\n",
       "       123.84179422, 122.24728569, 120.00758243, 140.5145255 ,\n",
       "        92.43270517, 111.50287291, 124.26577638, 155.21786142,\n",
       "       139.72170116,  96.27371079, 149.34223995, 116.02963226,\n",
       "       103.30165966, 122.61368894, 164.06803336, 120.73734866,\n",
       "       121.22627506, 114.79612506,  84.14393988, 118.6940176 ,\n",
       "       111.92311004, 150.98498399, 120.95105105, 120.30262401,\n",
       "       124.00400963,  98.52573323, 127.27612198, 146.60863372,\n",
       "       111.46538332,  92.70579362, 120.02984531,  96.81857708,\n",
       "       121.77854312, 117.14764776, 121.56275821, 106.1833252 ,\n",
       "       126.08059861, 162.87902302, 160.90222642, 130.40982522,\n",
       "       160.54407161, 104.63138943, 117.91694447, 123.91026744,\n",
       "       118.94325186, 114.17707869, 105.19389351, 126.55732904,\n",
       "       154.58311636, 116.00920198])"
      ]
     },
     "execution_count": 27,
     "metadata": {},
     "output_type": "execute_result"
    }
   ],
   "source": [
    "y_pred = lr.predict(x_test)\n",
    "y_pred"
   ]
  },
  {
   "cell_type": "code",
   "execution_count": 28,
   "metadata": {},
   "outputs": [],
   "source": [
    "accuracy = metrics.r2_score(y_test, y_pred)\n"
   ]
  },
  {
   "cell_type": "code",
   "execution_count": 29,
   "metadata": {},
   "outputs": [
    {
     "name": "stdout",
     "output_type": "stream",
     "text": [
      "0.8696713120900418\n"
     ]
    }
   ],
   "source": [
    "print(accuracy)"
   ]
  },
  {
   "cell_type": "markdown",
   "metadata": {},
   "source": [
    "### Random Forest Model"
   ]
  },
  {
   "cell_type": "code",
   "execution_count": 31,
   "metadata": {},
   "outputs": [
    {
     "data": {
      "text/plain": [
       "RandomForestRegressor()"
      ]
     },
     "execution_count": 31,
     "metadata": {},
     "output_type": "execute_result"
    }
   ],
   "source": [
    "#Random Forest Model\n",
    "rf = RandomForestRegressor(n_estimators=100)\n",
    "rf.fit(x_train,y_train)\n"
   ]
  },
  {
   "cell_type": "code",
   "execution_count": 32,
   "metadata": {},
   "outputs": [
    {
     "name": "stdout",
     "output_type": "stream",
     "text": [
      "R-Squared Error for lr : 0.8696713120900418\n"
     ]
    }
   ],
   "source": [
    "y_pred = rf.predict(x_test)\n",
    "y_pred\n",
    "print('R-Squared Error for lr :', accuracy)\n"
   ]
  },
  {
   "cell_type": "code",
   "execution_count": 33,
   "metadata": {},
   "outputs": [
    {
     "name": "stdout",
     "output_type": "stream",
     "text": [
      "R-Squared Error for rf : 0.9873023867149991\n"
     ]
    }
   ],
   "source": [
    "accuracy = metrics.r2_score(y_test, y_pred)\n",
    "print('R-Squared Error for rf :', accuracy)"
   ]
  },
  {
   "cell_type": "markdown",
   "metadata": {},
   "source": [
    "### Plot Between Actual and Predicted Value  "
   ]
  },
  {
   "cell_type": "code",
   "execution_count": 36,
   "metadata": {},
   "outputs": [
    {
     "data": {
      "image/png": "[encoded data removed]",
      "text/plain": [
       "<Figure size 432x288 with 1 Axes>"
      ]
     },
     "metadata": {
      "needs_background": "light"
     },
     "output_type": "display_data"
    }
   ],
   "source": [
    "plt.plot(y_test, color='blue', label = 'Actual Value')\n",
    "plt.plot(y_pred, color='pink', label='Predicted Value')\n",
    "plt.title('Actual Price vs Predicted Price')\n",
    "plt.xlabel('Number of values')\n",
    "plt.ylabel('GLD Price')\n",
    "plt.legend()\n",
    "plt.show()"
   ]
  },
  {
   "cell_type": "code",
   "execution_count": null,
   "metadata": {},
   "outputs": [],
   "source": []
  }
 ],
 "metadata": {
  "kernelspec": {
   "display_name": "Python 3",
   "language": "python",
   "name": "python3"
  },
  "language_info": {
   "codemirror_mode": {
    "name": "ipython",
    "version": 3
   },
   "file_extension": ".py",
   "mimetype": "text/x-python",
   "name": "python",
   "nbconvert_exporter": "python",
   "pygments_lexer": "ipython3",
   "version": "3.8.3"
  }
 },
 "nbformat": 4,
 "nbformat_minor": 4
}
